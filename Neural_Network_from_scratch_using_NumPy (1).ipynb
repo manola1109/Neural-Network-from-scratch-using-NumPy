{
  "nbformat": 4,
  "nbformat_minor": 0,
  "metadata": {
    "colab": {
      "provenance": []
    },
    "kernelspec": {
      "name": "python3",
      "display_name": "Python 3"
    },
    "language_info": {
      "codemirror_mode": {
        "name": "ipython",
        "version": 3
      },
      "file_extension": ".py",
      "mimetype": "text/x-python",
      "name": "python",
      "nbconvert_exporter": "python",
      "pygments_lexer": "ipython3",
      "version": "3.6.5"
    },
    "accelerator": "GPU"
  },
  "cells": [
    {
      "cell_type": "markdown",
      "metadata": {
        "id": "cEG1dhnuNFRk"
      },
      "source": [
        "# Steps to build a Neural Network in NumPy\n",
        "\n",
        "<ol>1. Loading the dataset (Input and Output)</ol>\n",
        "<ol>2. Architecture of the model (# input, hidden and output neurons)</ol>\n",
        "<ol>3. Initializing the weights for all the layers</ol>\n",
        "<ol>4. Implementing forward propagation</ol>\n",
        "<ol>5. Implementing backward propagation</ol>\n",
        "<ol>6. Train the model for n epochs </ol>"
      ]
    },
    {
      "cell_type": "markdown",
      "metadata": {
        "id": "sbgj7HfHNFRr"
      },
      "source": [
        "## 1. Loading the dataset (Input and Output)"
      ]
    },
    {
      "cell_type": "code",
      "metadata": {
        "id": "E5S9HgBzNFRw"
      },
      "source": [
        "# importing required libraries\n",
        "import numpy as np\n",
        "import matplotlib\n",
        "import matplotlib.pyplot as plt\n",
        "%matplotlib inline"
      ],
      "execution_count": 1,
      "outputs": []
    },
    {
      "cell_type": "code",
      "metadata": {
        "id": "ogs6CaXu2zeZ",
        "outputId": "4fc8d6b9-7841-4596-88fd-226b0fae3a55",
        "colab": {
          "base_uri": "https://localhost:8080/"
        }
      },
      "source": [
        "# version of numpy library\n",
        "print('Version of numpy:',np.__version__)"
      ],
      "execution_count": 2,
      "outputs": [
        {
          "output_type": "stream",
          "name": "stdout",
          "text": [
            "Version of numpy: 1.25.2\n"
          ]
        }
      ]
    },
    {
      "cell_type": "code",
      "metadata": {
        "id": "vNmvxGv723N6",
        "outputId": "151f7ab4-f4ed-4d03-ba86-b666f517da96",
        "colab": {
          "base_uri": "https://localhost:8080/"
        }
      },
      "source": [
        "# version of matplotlib library\n",
        "print('Version of matplotlib:',matplotlib.__version__)"
      ],
      "execution_count": 3,
      "outputs": [
        {
          "output_type": "stream",
          "name": "stdout",
          "text": [
            "Version of matplotlib: 3.7.1\n"
          ]
        }
      ]
    },
    {
      "cell_type": "code",
      "metadata": {
        "id": "H_h7HoPONFR_",
        "outputId": "04f4bb76-714d-4065-b14c-65fd055b1d30",
        "colab": {
          "base_uri": "https://localhost:8080/"
        }
      },
      "source": [
        "# creating the input array\n",
        "X=np.array([[1,0,1,0], [1,0,1,1], [0,1,0,1]])\n",
        "print ('\\n Input:')\n",
        "print(X)\n",
        "# shape of input array\n",
        "print('\\n Shape of Input:', X.shape)"
      ],
      "execution_count": 4,
      "outputs": [
        {
          "output_type": "stream",
          "name": "stdout",
          "text": [
            "\n",
            " Input:\n",
            "[[1 0 1 0]\n",
            " [1 0 1 1]\n",
            " [0 1 0 1]]\n",
            "\n",
            " Shape of Input: (3, 4)\n"
          ]
        }
      ]
    },
    {
      "cell_type": "code",
      "metadata": {
        "id": "LVvQz5g39wo3",
        "outputId": "87dc68ff-ec68-464b-daab-8eec452896d9",
        "colab": {
          "base_uri": "https://localhost:8080/"
        }
      },
      "source": [
        "# converting the input in matrix form\n",
        "X = X.T\n",
        "print('\\n Input in matrix form:')\n",
        "print(X)\n",
        "# shape of input matrix\n",
        "print('\\n Shape of Input Matrix:', X.shape)"
      ],
      "execution_count": 5,
      "outputs": [
        {
          "output_type": "stream",
          "name": "stdout",
          "text": [
            "\n",
            " Input in matrix form:\n",
            "[[1 1 0]\n",
            " [0 0 1]\n",
            " [1 1 0]\n",
            " [0 1 1]]\n",
            "\n",
            " Shape of Input Matrix: (4, 3)\n"
          ]
        }
      ]
    },
    {
      "cell_type": "code",
      "metadata": {
        "id": "IRe8JE0xNFSL",
        "outputId": "7d2d6d3f-1680-4ce4-a960-7e7a3a7ebc58",
        "colab": {
          "base_uri": "https://localhost:8080/"
        }
      },
      "source": [
        "# creating the output array\n",
        "y=np.array([[1],[1],[0]])\n",
        "print ('\\n Actual Output:')\n",
        "print(y)\n",
        "\n",
        "# output in matrix form\n",
        "y = y.T\n",
        "\n",
        "print ('\\n Output in matrix form:')\n",
        "print(y)\n",
        "\n",
        "# shape of input array\n",
        "print('\\n Shape of Output:', y.shape)"
      ],
      "execution_count": 6,
      "outputs": [
        {
          "output_type": "stream",
          "name": "stdout",
          "text": [
            "\n",
            " Actual Output:\n",
            "[[1]\n",
            " [1]\n",
            " [0]]\n",
            "\n",
            " Output in matrix form:\n",
            "[[1 1 0]]\n",
            "\n",
            " Shape of Output: (1, 3)\n"
          ]
        }
      ]
    },
    {
      "cell_type": "markdown",
      "metadata": {
        "id": "tKf4Ji1-NFSV"
      },
      "source": [
        "## 2. Architecture of the model (# input, hidden and output neurons)"
      ]
    },
    {
      "cell_type": "code",
      "metadata": {
        "id": "vlhBW0NNNFSg"
      },
      "source": [
        "inputlayer_neurons = X.shape[0] # number of features in data set\n",
        "hiddenlayer_neurons = 3 # number of hidden layers neurons\n",
        "output_neurons = 1 # number of neurons at output layer"
      ],
      "execution_count": 7,
      "outputs": []
    },
    {
      "cell_type": "markdown",
      "metadata": {
        "id": "OoOsLucmNFSo"
      },
      "source": [
        "![alt text](https://drive.google.com/uc?id=1zrEFVsc6bMQZ7fRxbK4DRceaG78k26Pc)"
      ]
    },
    {
      "cell_type": "markdown",
      "metadata": {
        "id": "_Nmwj8RfNFSr"
      },
      "source": [
        "## 3. Initializing the weights for all the layers\n",
        "\n",
        "NOTE: For simplicity, we are assuming that the bias for all the layers is 0"
      ]
    },
    {
      "cell_type": "code",
      "metadata": {
        "id": "1T1IG-W8NFSu"
      },
      "source": [
        "# initializing weight\n",
        "# Shape of w_ih should number of neurons at input layer X number of neurons at hidden layer\n",
        "w_ih=np.random.uniform(size=(inputlayer_neurons,hiddenlayer_neurons))\n",
        "\n",
        "\n",
        "# Shape of w_ho should number of neurons at hidden layer X number of neurons at output layer\n",
        "w_ho=np.random.uniform(size=(hiddenlayer_neurons,output_neurons))"
      ],
      "execution_count": 8,
      "outputs": []
    },
    {
      "cell_type": "code",
      "metadata": {
        "id": "Fpa1--9KNFS1",
        "outputId": "9b2f8da9-e2bb-4b25-cdfa-7cbfb4d62aa6",
        "colab": {
          "base_uri": "https://localhost:8080/"
        }
      },
      "source": [
        "# shape of weight matrix\n",
        "w_ih.shape, w_ho.shape"
      ],
      "execution_count": 9,
      "outputs": [
        {
          "output_type": "execute_result",
          "data": {
            "text/plain": [
              "((4, 3), (3, 1))"
            ]
          },
          "metadata": {},
          "execution_count": 9
        }
      ]
    },
    {
      "cell_type": "markdown",
      "metadata": {
        "id": "srrDW1MNNFS-"
      },
      "source": [
        "## 4. Implementing forward propagation"
      ]
    },
    {
      "cell_type": "markdown",
      "metadata": {
        "id": "-g-SocwQNFTC"
      },
      "source": [
        "![alt text](https://drive.google.com/uc?id=1YwD7vY9k84vZmjmE5CXgQ69fYyadPsox)"
      ]
    },
    {
      "cell_type": "code",
      "metadata": {
        "id": "sOcBji4iNFTE"
      },
      "source": [
        "# We are using sigmoid as an activation function so defining the sigmoid function here\n",
        "\n",
        "# defining the Sigmoid Function\n",
        "def sigmoid (x):\n",
        "    return 1/(1 + np.exp(-x))"
      ],
      "execution_count": 10,
      "outputs": []
    },
    {
      "cell_type": "code",
      "metadata": {
        "id": "DO6AYHtGNFTM"
      },
      "source": [
        "# hidden layer activations\n",
        "\n",
        "hidden_layer_input=np.dot(w_ih.T,X)\n",
        "hiddenlayer_activations = sigmoid(hidden_layer_input)"
      ],
      "execution_count": 11,
      "outputs": []
    },
    {
      "cell_type": "markdown",
      "metadata": {
        "id": "o8zzYX6pNFTT"
      },
      "source": [
        "![alt text](https://drive.google.com/uc?id=1ETMoLD1fwi5u1HHLqtAdVUs-P8HNOU_p)"
      ]
    },
    {
      "cell_type": "code",
      "metadata": {
        "id": "CuqKwiToNFTW"
      },
      "source": [
        "# calculating the output\n",
        "output_layer_input=np.dot(w_ho.T,hiddenlayer_activations)\n",
        "output = sigmoid(output_layer_input)"
      ],
      "execution_count": 12,
      "outputs": []
    },
    {
      "cell_type": "code",
      "metadata": {
        "id": "BjPlMkVMNFTd",
        "outputId": "477ff17b-4a58-4bff-e415-36e10d9fc73e",
        "colab": {
          "base_uri": "https://localhost:8080/"
        }
      },
      "source": [
        "# output\n",
        "output"
      ],
      "execution_count": 13,
      "outputs": [
        {
          "output_type": "execute_result",
          "data": {
            "text/plain": [
              "array([[0.72534838, 0.74581599, 0.73832813]])"
            ]
          },
          "metadata": {},
          "execution_count": 13
        }
      ]
    },
    {
      "cell_type": "markdown",
      "metadata": {
        "id": "mdFKMYyzNFTm"
      },
      "source": [
        "## 5. Implementing backward propagation"
      ]
    },
    {
      "cell_type": "markdown",
      "metadata": {
        "id": "c2m3XBgZNFTn"
      },
      "source": [
        "![alt text](https://drive.google.com/uc?id=1uYdg4mQL-B9o7BTOLnfoYUhh_LxTnpcW)"
      ]
    },
    {
      "cell_type": "code",
      "metadata": {
        "id": "IvUAAhlcNFTp"
      },
      "source": [
        "# calculating error\n",
        "error = np.square(y-output)/2"
      ],
      "execution_count": 14,
      "outputs": []
    },
    {
      "cell_type": "markdown",
      "metadata": {
        "id": "3H0vjBdNNFTw"
      },
      "source": [
        "### Rate of change of error w.r.t weight between hidden and output layer"
      ]
    },
    {
      "cell_type": "markdown",
      "metadata": {
        "id": "4cncCd1WNFTz"
      },
      "source": [
        "![alt text](https://drive.google.com/uc?id=1_KexjgVJGRptZ6t1eobTter3mfIGo9rs)"
      ]
    },
    {
      "cell_type": "markdown",
      "metadata": {
        "id": "DqrhlDeDNFT1"
      },
      "source": [
        "**a. Rate of change of error w.r.t output**\n",
        "\n",
        "**b. Rate of change of output w.r.t Z2**\n",
        "\n",
        "**c. Rate of change of Z2 w.r.t weights between hidden and output layer**"
      ]
    },
    {
      "cell_type": "code",
      "metadata": {
        "id": "bKdk5m4FNFT3"
      },
      "source": [
        "# rate of change of error w.r.t. output\n",
        "error_wrt_output = -(y-output)"
      ],
      "execution_count": 15,
      "outputs": []
    },
    {
      "cell_type": "code",
      "metadata": {
        "id": "Bl1PDwrBNFT9"
      },
      "source": [
        "# rate of change of output w.r.t. Z2\n",
        "output_wrt_Z2 = np.multiply(output,(1-output))"
      ],
      "execution_count": 16,
      "outputs": []
    },
    {
      "cell_type": "code",
      "metadata": {
        "id": "3vLk1nxLNFUD"
      },
      "source": [
        "# rate of change of Z2 w.r.t. weights between hidden and output layer\n",
        "Z2_wrt_who = hiddenlayer_activations"
      ],
      "execution_count": 17,
      "outputs": []
    },
    {
      "cell_type": "code",
      "metadata": {
        "id": "UXXifY9QNFUI",
        "outputId": "d9f1ef9b-8671-49c4-e954-905c9d085a07",
        "colab": {
          "base_uri": "https://localhost:8080/"
        }
      },
      "source": [
        "# checking the shapes of partial derivatives\n",
        "error_wrt_output.shape, output_wrt_Z2.shape, Z2_wrt_who.shape"
      ],
      "execution_count": 18,
      "outputs": [
        {
          "output_type": "execute_result",
          "data": {
            "text/plain": [
              "((1, 3), (1, 3), (3, 3))"
            ]
          },
          "metadata": {},
          "execution_count": 18
        }
      ]
    },
    {
      "cell_type": "code",
      "metadata": {
        "id": "ZvtS7wCRNFUN",
        "outputId": "308351ab-187d-4fa3-b8d8-bedd94034d5e",
        "colab": {
          "base_uri": "https://localhost:8080/"
        }
      },
      "source": [
        "# shape of weights of output layer\n",
        "w_ho.shape"
      ],
      "execution_count": 19,
      "outputs": [
        {
          "output_type": "execute_result",
          "data": {
            "text/plain": [
              "(3, 1)"
            ]
          },
          "metadata": {},
          "execution_count": 19
        }
      ]
    },
    {
      "cell_type": "markdown",
      "metadata": {
        "id": "gC9zQEH6HON5"
      },
      "source": [
        "![alt text](https://drive.google.com/uc?id=1VesmZOVpfgLFESvOFd7dE-YHNtSMMkvM)"
      ]
    },
    {
      "cell_type": "code",
      "metadata": {
        "id": "l3HNVYGONFUr"
      },
      "source": [
        "# rate of change of error w.r.t weight between hidden and output layer\n",
        "error_wrt_who = np.dot(Z2_wrt_who,(error_wrt_output*output_wrt_Z2).T)"
      ],
      "execution_count": 20,
      "outputs": []
    },
    {
      "cell_type": "code",
      "metadata": {
        "id": "cwyI1EGZNFUw",
        "colab": {
          "base_uri": "https://localhost:8080/"
        },
        "outputId": "04c932da-35ea-4a42-f946-b83c5d324574"
      },
      "source": [
        "error_wrt_who.shape"
      ],
      "execution_count": 21,
      "outputs": [
        {
          "output_type": "execute_result",
          "data": {
            "text/plain": [
              "(3, 1)"
            ]
          },
          "metadata": {},
          "execution_count": 21
        }
      ]
    },
    {
      "cell_type": "markdown",
      "metadata": {
        "id": "sDFPg2SHNFU2"
      },
      "source": [
        "### Rate of change of error w.r.t weight between input and hidden layer"
      ]
    },
    {
      "cell_type": "markdown",
      "metadata": {
        "id": "_757MrjBNFU2"
      },
      "source": [
        "![alt text](https://drive.google.com/uc?id=1X4-iInwlv7ber3fwgtqHuHTuFRci-tMV)"
      ]
    },
    {
      "cell_type": "markdown",
      "metadata": {
        "id": "_nPYGXkeNFU4"
      },
      "source": [
        "**a. Rate of change of error w.r.t output**\n",
        "\n",
        "**b. Rate of change of output w.r.t Z2**\n",
        "\n",
        "**c. Rate of change of Z2 w.r.t hidden layer activations**\n",
        "\n",
        "**d. Rate of change of hidden layer activations w.r.t Z1**\n",
        "\n",
        "**e. Rate of change of Z1 w.r.t weights between input and hidden layer**"
      ]
    },
    {
      "cell_type": "code",
      "metadata": {
        "id": "Sb7Ezxw9NFU6"
      },
      "source": [
        "# rate of change of error w.r.t. output\n",
        "error_wrt_output = -(y-output)"
      ],
      "execution_count": 22,
      "outputs": []
    },
    {
      "cell_type": "code",
      "metadata": {
        "id": "3-SGbNaoNFVA"
      },
      "source": [
        "# rate of change of output w.r.t. Z2\n",
        "output_wrt_Z2 = np.multiply(output,(1-output))"
      ],
      "execution_count": 23,
      "outputs": []
    },
    {
      "cell_type": "code",
      "metadata": {
        "id": "amuoR7h6NFVF"
      },
      "source": [
        "# rate of change of Z2 w.r.t. hidden layer activations\n",
        "Z2_wrt_h1 = w_ho"
      ],
      "execution_count": 24,
      "outputs": []
    },
    {
      "cell_type": "code",
      "metadata": {
        "id": "YDUZEdWKNFVJ"
      },
      "source": [
        "# rate of change of hidden layer activations w.r.t. Z1\n",
        "h1_wrt_Z1 = np.multiply(hiddenlayer_activations,(1-hiddenlayer_activations))"
      ],
      "execution_count": 25,
      "outputs": []
    },
    {
      "cell_type": "code",
      "metadata": {
        "id": "Ft4U6Td6NFVO"
      },
      "source": [
        "# rate of change of Z1 w.r.t. weights between input and hidden layer\n",
        "Z1_wrt_wih = X"
      ],
      "execution_count": 26,
      "outputs": []
    },
    {
      "cell_type": "code",
      "metadata": {
        "id": "A-hsfsi4NFVR",
        "outputId": "3a727b12-e49e-449c-bcbf-9e18fdc48a2c",
        "colab": {
          "base_uri": "https://localhost:8080/"
        }
      },
      "source": [
        "# checking the shapes of partial derivatives\n",
        "error_wrt_output.shape, output_wrt_Z2.shape, Z2_wrt_h1.shape, h1_wrt_Z1.shape, Z1_wrt_wih.shape"
      ],
      "execution_count": 27,
      "outputs": [
        {
          "output_type": "execute_result",
          "data": {
            "text/plain": [
              "((1, 3), (1, 3), (3, 1), (3, 3), (4, 3))"
            ]
          },
          "metadata": {},
          "execution_count": 27
        }
      ]
    },
    {
      "cell_type": "code",
      "metadata": {
        "id": "1uka_yPrNFVV",
        "colab": {
          "base_uri": "https://localhost:8080/"
        },
        "outputId": "02e3b470-71cf-4b08-c40e-6258b748a0b4"
      },
      "source": [
        "# shape of weights of hidden layer\n",
        "w_ih.shape"
      ],
      "execution_count": 28,
      "outputs": [
        {
          "output_type": "execute_result",
          "data": {
            "text/plain": [
              "(4, 3)"
            ]
          },
          "metadata": {},
          "execution_count": 28
        }
      ]
    },
    {
      "cell_type": "markdown",
      "metadata": {
        "id": "gCeSm7vrHbHj"
      },
      "source": [
        "![alt text](https://drive.google.com/uc?id=1RkG5x1NEFWlF3tj0OlswOWvBcV5XNV1C)"
      ]
    },
    {
      "cell_type": "code",
      "metadata": {
        "id": "XTPNf3E5NFVs"
      },
      "source": [
        "# rate of change of error w.r.t weights between input and hidden layer\n",
        "error_wrt_wih = np.dot(Z1_wrt_wih,(h1_wrt_Z1*np.dot(Z2_wrt_h1,(output_wrt_Z2*error_wrt_output))).T)"
      ],
      "execution_count": 32,
      "outputs": []
    },
    {
      "cell_type": "code",
      "metadata": {
        "id": "_WN0I-mpNFVw",
        "colab": {
          "base_uri": "https://localhost:8080/"
        },
        "outputId": "3a96f5c4-4554-4562-c645-1c89c3866b48"
      },
      "source": [
        "error_wrt_wih.shape"
      ],
      "execution_count": 33,
      "outputs": [
        {
          "output_type": "execute_result",
          "data": {
            "text/plain": [
              "(4, 3)"
            ]
          },
          "metadata": {},
          "execution_count": 33
        }
      ]
    },
    {
      "cell_type": "markdown",
      "metadata": {
        "id": "W2bu4H5-NFVz"
      },
      "source": [
        "### Update the parameters"
      ]
    },
    {
      "cell_type": "markdown",
      "metadata": {
        "id": "-nmJnY_PNFV1"
      },
      "source": [
        "![alt text](https://drive.google.com/uc?id=1A5jaB3WjZx9yrJkk9imVEvP3PZodjapE)"
      ]
    },
    {
      "cell_type": "code",
      "metadata": {
        "id": "_r59xEpINFV2"
      },
      "source": [
        "# defining the learning rate\n",
        "lr = 0.01"
      ],
      "execution_count": 34,
      "outputs": []
    },
    {
      "cell_type": "code",
      "metadata": {
        "id": "aiBFNXd3NFV7",
        "colab": {
          "base_uri": "https://localhost:8080/"
        },
        "outputId": "d68d028a-388b-4b04-8e14-3ebe9d3af035"
      },
      "source": [
        "# initial w_ho and w_ih\n",
        "w_ho"
      ],
      "execution_count": 35,
      "outputs": [
        {
          "output_type": "execute_result",
          "data": {
            "text/plain": [
              "array([[0.80912182],\n",
              "       [0.36918469],\n",
              "       [0.16605408]])"
            ]
          },
          "metadata": {},
          "execution_count": 35
        }
      ]
    },
    {
      "cell_type": "code",
      "metadata": {
        "id": "CuosFKUENFWB",
        "scrolled": true,
        "colab": {
          "base_uri": "https://localhost:8080/"
        },
        "outputId": "f0d08b3b-badc-4dd4-c6e5-be60d82261fa"
      },
      "source": [
        "w_ih"
      ],
      "execution_count": 36,
      "outputs": [
        {
          "output_type": "execute_result",
          "data": {
            "text/plain": [
              "array([[0.47116875, 0.2803452 , 0.91146966],\n",
              "       [0.79880822, 0.9850019 , 0.5039332 ],\n",
              "       [0.33933521, 0.74515587, 0.73959105],\n",
              "       [0.56525289, 0.27517805, 0.04555631]])"
            ]
          },
          "metadata": {},
          "execution_count": 36
        }
      ]
    },
    {
      "cell_type": "code",
      "metadata": {
        "id": "D_Va2xywNFWF"
      },
      "source": [
        "# updating the weights of output layer\n",
        "w_ho = w_ho - lr * error_wrt_who"
      ],
      "execution_count": 37,
      "outputs": []
    },
    {
      "cell_type": "code",
      "metadata": {
        "id": "ruFlc96BNFWL"
      },
      "source": [
        "# updating the weights of hidden layer\n",
        "w_ih = w_ih - lr * error_wrt_wih"
      ],
      "execution_count": 38,
      "outputs": []
    },
    {
      "cell_type": "code",
      "metadata": {
        "id": "NTf4nS1xNFWP",
        "colab": {
          "base_uri": "https://localhost:8080/"
        },
        "outputId": "1a31796b-1bc5-4fb8-cda1-155a1ce3f8d2"
      },
      "source": [
        "# updated w_ho and w_ih\n",
        "w_ho"
      ],
      "execution_count": 39,
      "outputs": [
        {
          "output_type": "execute_result",
          "data": {
            "text/plain": [
              "array([[0.8087492 ],\n",
              "       [0.36885486],\n",
              "       [0.166016  ]])"
            ]
          },
          "metadata": {},
          "execution_count": 39
        }
      ]
    },
    {
      "cell_type": "code",
      "metadata": {
        "id": "7VYNPPNlNFWU",
        "colab": {
          "base_uri": "https://localhost:8080/"
        },
        "outputId": "ca447ea8-ccff-43f5-b1b5-79074ff8b8d3"
      },
      "source": [
        "w_ih"
      ],
      "execution_count": 40,
      "outputs": [
        {
          "output_type": "execute_result",
          "data": {
            "text/plain": [
              "array([[0.47132585, 0.28041437, 0.9114924 ],\n",
              "       [0.79862109, 0.98491125, 0.50387824],\n",
              "       [0.33949231, 0.74522505, 0.73961379],\n",
              "       [0.56512854, 0.27511733, 0.04551183]])"
            ]
          },
          "metadata": {},
          "execution_count": 40
        }
      ]
    },
    {
      "cell_type": "markdown",
      "metadata": {
        "id": "SxLy6DZlNFWY"
      },
      "source": [
        "## 6. Training the model for n epochs"
      ]
    },
    {
      "cell_type": "code",
      "metadata": {
        "id": "8HKS9vIyNFWZ"
      },
      "source": [
        "# defining the model architecture\n",
        "inputlayer_neurons = X.shape[0] # number of features in data set\n",
        "hiddenlayer_neurons = 3 # number of hidden layers neurons\n",
        "output_neurons = 1 # number of neurons at output layer\n",
        "\n",
        "# initializing weight\n",
        "w_ih=np.random.uniform(size=(inputlayer_neurons,hiddenlayer_neurons))\n",
        "w_ho=np.random.uniform(size=(hiddenlayer_neurons,output_neurons))\n",
        "\n",
        "# defining the parameters\n",
        "lr = 0.01\n",
        "epochs = 10000"
      ],
      "execution_count": 41,
      "outputs": []
    },
    {
      "cell_type": "code",
      "metadata": {
        "id": "ojybM51LNFWc",
        "colab": {
          "base_uri": "https://localhost:8080/"
        },
        "outputId": "efb9db9f-26de-4b71-e94f-f96614e322b4"
      },
      "source": [
        "# initial w_ih and w_ho\n",
        "w_ih"
      ],
      "execution_count": 42,
      "outputs": [
        {
          "output_type": "execute_result",
          "data": {
            "text/plain": [
              "array([[0.25022461, 0.10522484, 0.37840975],\n",
              "       [0.76178985, 0.91872837, 0.8634442 ],\n",
              "       [0.29204543, 0.09971105, 0.08385933],\n",
              "       [0.04034556, 0.72528382, 0.22823221]])"
            ]
          },
          "metadata": {},
          "execution_count": 42
        }
      ]
    },
    {
      "cell_type": "code",
      "metadata": {
        "id": "1RS_d3kdNFWg",
        "colab": {
          "base_uri": "https://localhost:8080/"
        },
        "outputId": "fad40600-cb6b-42c4-c2fb-1be864f7e473"
      },
      "source": [
        "w_ho"
      ],
      "execution_count": 43,
      "outputs": [
        {
          "output_type": "execute_result",
          "data": {
            "text/plain": [
              "array([[0.5848016 ],\n",
              "       [0.65939952],\n",
              "       [0.86094521]])"
            ]
          },
          "metadata": {},
          "execution_count": 43
        }
      ]
    },
    {
      "cell_type": "code",
      "metadata": {
        "id": "_yVAcyW_NFWk"
      },
      "source": [
        "error_epoch = []\n",
        "for i in range(epochs):\n",
        "    # Forward Propogation\n",
        "\n",
        "    # hidden layer activations\n",
        "    hidden_layer_input=np.dot(w_ih.T,X)\n",
        "    hiddenlayer_activations = sigmoid(hidden_layer_input)\n",
        "    # calculating the output\n",
        "    output_layer_input=np.dot(w_ho.T,hiddenlayer_activations)\n",
        "    output = sigmoid(output_layer_input)\n",
        "\n",
        "\n",
        "    # Backward Propagation\n",
        "\n",
        "    # calculating error\n",
        "    error = np.square(y-output)/2\n",
        "    error_wrt_output = -(y-output)\n",
        "    output_wrt_Z2 = np.multiply(output,(1-output))\n",
        "    Z2_wrt_who = hiddenlayer_activations\n",
        "    # rate of change of error w.r.t weight between hidden and output layer\n",
        "    error_wrt_who = np.dot(Z2_wrt_who,(error_wrt_output*output_wrt_Z2).T)\n",
        "    Z2_wrt_h1 = w_ho\n",
        "    h1_wrt_Z1 = np.multiply(hiddenlayer_activations,(1-hiddenlayer_activations))\n",
        "    Z1_wrt_wih = X\n",
        "    # rate of change of error w.r.t weights between input and hidden layer\n",
        "    error_wrt_wih = np.dot(Z1_wrt_wih,(h1_wrt_Z1*np.dot(Z2_wrt_h1,(error_wrt_output*output_wrt_Z2))).T)\n",
        "\n",
        "    # updating the weights between hidden and output layer\n",
        "    w_ho = w_ho - lr * error_wrt_who\n",
        "    # updating the weights between input and hidden layer\n",
        "    w_ih = w_ih - lr * error_wrt_wih\n",
        "\n",
        "    # appending the error of each epoch\n",
        "    error_epoch.append(np.average(error))"
      ],
      "execution_count": 44,
      "outputs": []
    },
    {
      "cell_type": "code",
      "metadata": {
        "id": "Ra5mTgwUNFWo",
        "outputId": "20de9dc0-62b7-4f07-fd3d-cf290542ac8f",
        "colab": {
          "base_uri": "https://localhost:8080/",
          "height": 86
        }
      },
      "source": [
        "# updated w_ih and w_ho\n",
        "w_ih"
      ],
      "execution_count": null,
      "outputs": [
        {
          "output_type": "execute_result",
          "data": {
            "text/plain": [
              "array([[ 1.66923638, -0.66129548,  0.08179227],\n",
              "       [-1.84314253,  0.81970736,  0.98620134],\n",
              "       [ 1.59688171, -0.40069459,  0.87579456],\n",
              "       [-0.83312157,  0.94031858,  0.45729113]])"
            ]
          },
          "metadata": {
            "tags": []
          },
          "execution_count": 42
        }
      ]
    },
    {
      "cell_type": "code",
      "metadata": {
        "id": "WeN2dcc0NFW8",
        "scrolled": true,
        "outputId": "5b9c1a16-0061-4da4-813f-31981c11a277",
        "colab": {
          "base_uri": "https://localhost:8080/",
          "height": 447
        }
      },
      "source": [
        "# visualizing the error after each epoch\n",
        "plt.plot(np.arange(1,epochs+1), np.array(error_epoch))"
      ],
      "execution_count": 45,
      "outputs": [
        {
          "output_type": "execute_result",
          "data": {
            "text/plain": [
              "[<matplotlib.lines.Line2D at 0x7d4e3c311c90>]"
            ]
          },
          "metadata": {},
          "execution_count": 45
        },
        {
          "output_type": "display_data",
          "data": {
            "text/plain": [
              "<Figure size 640x480 with 1 Axes>"
            ],
            "image/png": "[encoded data removed]"
          },
          "metadata": {}
        }
      ]
    },
    {
      "cell_type": "code",
      "metadata": {
        "id": "bJlcGoeUNFXA",
        "outputId": "e8492b6b-b8be-493e-a86d-640f1d2714e2",
        "colab": {
          "base_uri": "https://localhost:8080/"
        }
      },
      "source": [
        "# final output from the model\n",
        "output"
      ],
      "execution_count": 46,
      "outputs": [
        {
          "output_type": "execute_result",
          "data": {
            "text/plain": [
              "array([[0.95087695, 0.90727299, 0.14326197]])"
            ]
          },
          "metadata": {},
          "execution_count": 46
        }
      ]
    },
    {
      "cell_type": "code",
      "metadata": {
        "id": "ARNn3MiKNFXF",
        "outputId": "1afbb682-a004-437e-d9c9-377dcae3da5c",
        "colab": {
          "base_uri": "https://localhost:8080/"
        }
      },
      "source": [
        "# actual target\n",
        "y"
      ],
      "execution_count": 47,
      "outputs": [
        {
          "output_type": "execute_result",
          "data": {
            "text/plain": [
              "array([[1, 1, 0]])"
            ]
          },
          "metadata": {},
          "execution_count": 47
        }
      ]
    },
    {
      "cell_type": "code",
      "metadata": {
        "id": "MtwXl0bjNFXJ",
        "outputId": "61ba5f5e-dd87-45bf-dbaa-365a16402059",
        "colab": {
          "base_uri": "https://localhost:8080/"
        }
      },
      "source": [
        "# error at last epoch\n",
        "error"
      ],
      "execution_count": 48,
      "outputs": [
        {
          "output_type": "execute_result",
          "data": {
            "text/plain": [
              "array([[0.00120654, 0.00429915, 0.010262  ]])"
            ]
          },
          "metadata": {},
          "execution_count": 48
        }
      ]
    },
    {
      "cell_type": "code",
      "metadata": {
        "id": "HkfQF2CC2ir6"
      },
      "source": [],
      "execution_count": null,
      "outputs": []
    }
  ]
}